{
  "nbformat": 4,
  "nbformat_minor": 0,
  "metadata": {
    "colab": {
      "name": "02-2 문자열 자료형.ipynb",
      "provenance": [],
      "toc_visible": true,
      "authorship_tag": "ABX9TyM/fHb5i9rTLxLdbV6pixMK",
      "include_colab_link": true
    },
    "kernelspec": {
      "name": "python3",
      "display_name": "Python 3"
    },
    "language_info": {
      "name": "python"
    }
  },
  "cells": [
    {
      "cell_type": "markdown",
      "metadata": {
        "id": "view-in-github",
        "colab_type": "text"
      },
      "source": [
        "<a href=\"https://colab.research.google.com/github/moon4368/Python/blob/master/jumptoopython/02_2_%EB%AC%B8%EC%9E%90%EC%97%B4_%EC%9E%90%EB%A3%8C%ED%98%95.ipynb\" target=\"_parent\"><img src=\"https://colab.research.google.com/assets/colab-badge.svg\" alt=\"Open In Colab\"/></a>"
      ]
    },
    {
      "cell_type": "markdown",
      "metadata": {
        "id": "cFq_34aoS-63"
      },
      "source": [
        "#문자열이란?\n",
        "문자열(String)이란 문자, 단어 등으로 구성된 문자들의 집합"
      ]
    },
    {
      "cell_type": "code",
      "metadata": {
        "colab": {
          "base_uri": "https://localhost:8080/",
          "height": 35
        },
        "id": "3g_hhpSoTHag",
        "outputId": "c2426da7-01f0-45f2-b5c5-075980ef7078"
      },
      "source": [
        "\"Life is too short, You need Python\"\n",
        "\"a\"\n",
        "\"123\""
      ],
      "execution_count": null,
      "outputs": [
        {
          "output_type": "execute_result",
          "data": {
            "application/vnd.google.colaboratory.intrinsic+json": {
              "type": "string"
            },
            "text/plain": [
              "'123'"
            ]
          },
          "metadata": {
            "tags": []
          },
          "execution_count": 1
        }
      ]
    },
    {
      "cell_type": "markdown",
      "metadata": {
        "id": "mY1Myjv_TQIN"
      },
      "source": [
        "#문자열 만드는 방법"
      ]
    },
    {
      "cell_type": "code",
      "metadata": {
        "colab": {
          "base_uri": "https://localhost:8080/",
          "height": 35
        },
        "id": "gtMRLhu7TM8q",
        "outputId": "e67c37c0-b741-4573-9dc1-79bd112fd14d"
      },
      "source": [
        "# 1) 큰따옴표(\"\")로 양쪽 둘러싸기\n",
        "\"Hello World\"\n",
        "# 2) 작은따옴표('')로 양쪽 둘러싸기\n",
        "'Python is fun'\n",
        "# 3) 큰따옴표 3개를 연속(\"\"\")으로 써서 양쪽 둘러싸기\n",
        "\"\"\"Life is too short, You need python\"\"\"\n",
        "# 4) 작은따옴표 3개를 연속(''')으로 써서 양쪽 둘러싸기\n",
        "'''Life is too short, You need python'''\n",
        "# 문자열에 작은따옴표 포함시키기\n",
        "food = \"Python's favorite food is perl\"\n",
        "food"
      ],
      "execution_count": null,
      "outputs": [
        {
          "output_type": "execute_result",
          "data": {
            "application/vnd.google.colaboratory.intrinsic+json": {
              "type": "string"
            },
            "text/plain": [
              "\"Python's favorite food is perl\""
            ]
          },
          "metadata": {
            "tags": []
          },
          "execution_count": 2
        }
      ]
    },
    {
      "cell_type": "code",
      "metadata": {
        "colab": {
          "base_uri": "https://localhost:8080/",
          "height": 136
        },
        "id": "JJzf4pr_T_KI",
        "outputId": "2ea45943-c42b-4119-9b64-1b8c172625e5"
      },
      "source": [
        "food = 'Python's favorite food is perl'"
      ],
      "execution_count": null,
      "outputs": [
        {
          "output_type": "error",
          "ename": "SyntaxError",
          "evalue": "ignored",
          "traceback": [
            "\u001b[0;36m  File \u001b[0;32m\"<ipython-input-3-336a85538234>\"\u001b[0;36m, line \u001b[0;32m1\u001b[0m\n\u001b[0;31m    food = 'Python's favorite food is perl'\u001b[0m\n\u001b[0m                   ^\u001b[0m\n\u001b[0;31mSyntaxError\u001b[0m\u001b[0;31m:\u001b[0m invalid syntax\n"
          ]
        }
      ]
    },
    {
      "cell_type": "code",
      "metadata": {
        "colab": {
          "base_uri": "https://localhost:8080/"
        },
        "id": "pFcFeB9PUH94",
        "outputId": "89513f82-e791-4859-ac92-08fb43d259a5"
      },
      "source": [
        "# 문자열에 큰따옴표(\"\") 포함시키기\n",
        "say = '\"Python is very easy.\" he says.'\n",
        "# 백슬래시(\\)를 사용해서 작은따옴표와 큰따옴표를 문자열에 포함시키기\n",
        "food='Python\\'s favorite food is perl.'\n",
        "say=\"\\\"Python is very easy.\\\" he says.\"\n",
        "print(food,say)"
      ],
      "execution_count": null,
      "outputs": [
        {
          "output_type": "stream",
          "text": [
            "Python's favorite food is perl. \"Python is very easy.\" he says.\n"
          ],
          "name": "stdout"
        }
      ]
    },
    {
      "cell_type": "code",
      "metadata": {
        "colab": {
          "base_uri": "https://localhost:8080/"
        },
        "id": "g9lXmoKQUuHe",
        "outputId": "cd092b81-1d05-4a2a-f533-a4347447dbfa"
      },
      "source": [
        "#여러줄인 문자열을 변수에 대입하고 싶을 때\n",
        "# 1. \\n(이스케이프코드) 삽입\n",
        "multiline = \"Life is too short\\nYou need python\"\n",
        "\n",
        "# 2. 연속된 작은따옴표 3개 혹은 큰따옴표 3개 사용하기\n",
        "multiline1=\"\"\"\n",
        "Life is too short\n",
        "You need python\n",
        "\"\"\"\n",
        "multiline2='''\n",
        "Life is too short\n",
        "You need python\n",
        "'''\n",
        "\n",
        "print(multiline, multiline1, multiline2)"
      ],
      "execution_count": null,
      "outputs": [
        {
          "output_type": "stream",
          "text": [
            "Life is too short\n",
            "You need python \n",
            "Life is too short\n",
            "You need python\n",
            " \n",
            "Life is too short\n",
            "You need python\n",
            "\n"
          ],
          "name": "stdout"
        }
      ]
    },
    {
      "cell_type": "markdown",
      "metadata": {
        "id": "ABxgpIDoTu99"
      },
      "source": [
        "[이스케이프 코드란?]\n",
        "\n",
        "문자열 예제에서 여러 줄의 문장을 처리할 때 백슬래시 문자와 소문자 n을 조합한 \\n 이스케이프 코드를 사용했다. 이스케이프 코드란 프로그래밍할 때 사용할 수 있도록 미리 정의해 둔 \"문자 조합\"이다. 주로 출력물을 보기 좋게 정렬하는 용도로 사용한다. 몇 가지 이스케이프 코드를 정리하면 다음과 같다.\n",
        "\n",
        "코드\t설명\n",
        "* \\n\t문자열 안에서 줄을 바꿀 때 사용\n",
        "* \\t\t문자열 사이에 탭 간격을 줄 때 사용\n",
        "* \\\\\t문자 \\를 그대로 표현할 때 사용\n",
        "* \\'\t작은따옴표(')를 그대로 표현할 때 사용\n",
        "* \\\"\t큰따옴표(\")를 그대로 표현할 때 사용\n",
        "* \\r\t캐리지 리턴(줄 바꿈 문자, 현재 커서를 가장 앞으로 이동)\n",
        "* \\f\t폼 피드(줄 바꿈 문자, 현재 커서를 다음 줄로 이동)\n",
        "* \\a\t벨 소리(출력할 때 PC 스피커에서 '삑' 소리가 난다)\n",
        "* \\b\t백 스페이스\n",
        "* \\000\t널 문자\n",
        "\n",
        "이중에서 활용빈도가 높은 것은 \\n, \\t, \\\\, \\', \\\"이다. 나머지는 프로그램에서 잘 사용하지 않는다."
      ]
    },
    {
      "cell_type": "markdown",
      "metadata": {
        "id": "ruKHMxBUjtOt"
      },
      "source": [
        "#문자열 연산"
      ]
    },
    {
      "cell_type": "code",
      "metadata": {
        "colab": {
          "base_uri": "https://localhost:8080/",
          "height": 35
        },
        "id": "-ytwGcjAVqsl",
        "outputId": "bf7c898b-ab4d-4624-f134-823d21ac89c7"
      },
      "source": [
        "# 더해여 연결 Concatenation\n",
        "head=\"Python\"\n",
        "tail=\" is fun!\"\n",
        "head + tail"
      ],
      "execution_count": null,
      "outputs": [
        {
          "output_type": "execute_result",
          "data": {
            "application/vnd.google.colaboratory.intrinsic+json": {
              "type": "string"
            },
            "text/plain": [
              "'Python is fun!'"
            ]
          },
          "metadata": {
            "tags": []
          },
          "execution_count": 7
        }
      ]
    },
    {
      "cell_type": "code",
      "metadata": {
        "colab": {
          "base_uri": "https://localhost:8080/",
          "height": 35
        },
        "id": "NDLwxwF6j2UW",
        "outputId": "fe16087b-800a-44cf-8fa0-e79c20f9f081"
      },
      "source": [
        "#문자열 곱하기\n",
        "a=\"python\"\n",
        "a*2"
      ],
      "execution_count": null,
      "outputs": [
        {
          "output_type": "execute_result",
          "data": {
            "application/vnd.google.colaboratory.intrinsic+json": {
              "type": "string"
            },
            "text/plain": [
              "'pythonpython'"
            ]
          },
          "metadata": {
            "tags": []
          },
          "execution_count": 8
        }
      ]
    },
    {
      "cell_type": "code",
      "metadata": {
        "colab": {
          "base_uri": "https://localhost:8080/"
        },
        "id": "HskhLh2vj579",
        "outputId": "a6e159d3-ce24-4080-eaad-c06518fb167e"
      },
      "source": [
        "print(\"=\"*50)\n",
        "print(\"My program\")\n",
        "print(\"=\"*50)"
      ],
      "execution_count": null,
      "outputs": [
        {
          "output_type": "stream",
          "text": [
            "==================================================\n",
            "My program\n",
            "==================================================\n"
          ],
          "name": "stdout"
        }
      ]
    },
    {
      "cell_type": "code",
      "metadata": {
        "colab": {
          "base_uri": "https://localhost:8080/"
        },
        "id": "ENgMhB75kBm3",
        "outputId": "472efc82-24e0-4686-a379-5e111daf8094"
      },
      "source": [
        "# 문자열 길이 구하기\n",
        "a = 'life is too short!'\n",
        "len(a)"
      ],
      "execution_count": null,
      "outputs": [
        {
          "output_type": "execute_result",
          "data": {
            "text/plain": [
              "18"
            ]
          },
          "metadata": {
            "tags": []
          },
          "execution_count": 10
        }
      ]
    },
    {
      "cell_type": "code",
      "metadata": {
        "colab": {
          "base_uri": "https://localhost:8080/",
          "height": 35
        },
        "id": "3A5NL4ZSkJ6u",
        "outputId": "1ff078a1-da30-4502-e39c-e411108243d5"
      },
      "source": [
        "# 문자열 인덱싱\n",
        "a[3]"
      ],
      "execution_count": null,
      "outputs": [
        {
          "output_type": "execute_result",
          "data": {
            "application/vnd.google.colaboratory.intrinsic+json": {
              "type": "string"
            },
            "text/plain": [
              "'e'"
            ]
          },
          "metadata": {
            "tags": []
          },
          "execution_count": 11
        }
      ]
    },
    {
      "cell_type": "code",
      "metadata": {
        "colab": {
          "base_uri": "https://localhost:8080/",
          "height": 35
        },
        "id": "Wqe06FaRkS2O",
        "outputId": "56a7c105-beb9-4fa6-8938-a94dcafbd46e"
      },
      "source": [
        "a[-0]"
      ],
      "execution_count": null,
      "outputs": [
        {
          "output_type": "execute_result",
          "data": {
            "application/vnd.google.colaboratory.intrinsic+json": {
              "type": "string"
            },
            "text/plain": [
              "'l'"
            ]
          },
          "metadata": {
            "tags": []
          },
          "execution_count": 12
        }
      ]
    },
    {
      "cell_type": "code",
      "metadata": {
        "colab": {
          "base_uri": "https://localhost:8080/",
          "height": 35
        },
        "id": "YcmIf7fkkXhO",
        "outputId": "25d2220d-edcf-4e06-e655-6f1b7694c212"
      },
      "source": [
        "# 문자열 슬라이싱\n",
        "b=a[0]+a[1]+a[2]+a[3]\n",
        "b"
      ],
      "execution_count": null,
      "outputs": [
        {
          "output_type": "execute_result",
          "data": {
            "application/vnd.google.colaboratory.intrinsic+json": {
              "type": "string"
            },
            "text/plain": [
              "'life'"
            ]
          },
          "metadata": {
            "tags": []
          },
          "execution_count": 14
        }
      ]
    },
    {
      "cell_type": "code",
      "metadata": {
        "colab": {
          "base_uri": "https://localhost:8080/",
          "height": 35
        },
        "id": "uuVeCcqDkgUj",
        "outputId": "9c96b620-3248-4f29-aba8-5b1075441180"
      },
      "source": [
        "a[0:3]\n",
        "#0<=a<3"
      ],
      "execution_count": null,
      "outputs": [
        {
          "output_type": "execute_result",
          "data": {
            "application/vnd.google.colaboratory.intrinsic+json": {
              "type": "string"
            },
            "text/plain": [
              "'lif'"
            ]
          },
          "metadata": {
            "tags": []
          },
          "execution_count": 18
        }
      ]
    },
    {
      "cell_type": "markdown",
      "metadata": {
        "id": "jkU-X2NRk4yP"
      },
      "source": [
        "#문자열 포매팅"
      ]
    },
    {
      "cell_type": "code",
      "metadata": {
        "colab": {
          "base_uri": "https://localhost:8080/",
          "height": 35
        },
        "id": "uYxd2mEwkmzb",
        "outputId": "0b5e8740-9c65-4020-96f5-cce32412dede"
      },
      "source": [
        "\"I eat %d apples.\" %3"
      ],
      "execution_count": null,
      "outputs": [
        {
          "output_type": "execute_result",
          "data": {
            "application/vnd.google.colaboratory.intrinsic+json": {
              "type": "string"
            },
            "text/plain": [
              "'I eat 3 apples.'"
            ]
          },
          "metadata": {
            "tags": []
          },
          "execution_count": 19
        }
      ]
    },
    {
      "cell_type": "code",
      "metadata": {
        "colab": {
          "base_uri": "https://localhost:8080/",
          "height": 35
        },
        "id": "slnsZgfFlANE",
        "outputId": "dadecbed-1a20-4ca9-bf57-a399312c5f7b"
      },
      "source": [
        "\"I eat %s apples.\" %\"five\""
      ],
      "execution_count": null,
      "outputs": [
        {
          "output_type": "execute_result",
          "data": {
            "application/vnd.google.colaboratory.intrinsic+json": {
              "type": "string"
            },
            "text/plain": [
              "'I eat five apples.'"
            ]
          },
          "metadata": {
            "tags": []
          },
          "execution_count": 21
        }
      ]
    },
    {
      "cell_type": "code",
      "metadata": {
        "colab": {
          "base_uri": "https://localhost:8080/",
          "height": 35
        },
        "id": "F45DkIImlHG4",
        "outputId": "6ee8cd4d-ef71-4d04-a972-c7e22a84255d"
      },
      "source": [
        "number=3\n",
        "\"I eat %d apples\" %number"
      ],
      "execution_count": null,
      "outputs": [
        {
          "output_type": "execute_result",
          "data": {
            "application/vnd.google.colaboratory.intrinsic+json": {
              "type": "string"
            },
            "text/plain": [
              "'I eat 3 apples'"
            ]
          },
          "metadata": {
            "tags": []
          },
          "execution_count": 22
        }
      ]
    },
    {
      "cell_type": "code",
      "metadata": {
        "colab": {
          "base_uri": "https://localhost:8080/",
          "height": 35
        },
        "id": "KzI0KXjilPs1",
        "outputId": "e622dbca-b108-484f-f196-8c7d0f0f190d"
      },
      "source": [
        "number=10\n",
        "day=\"three\"\n",
        "\"I ate %d apples. so I was sick for %s days\" %(number,day)"
      ],
      "execution_count": null,
      "outputs": [
        {
          "output_type": "execute_result",
          "data": {
            "application/vnd.google.colaboratory.intrinsic+json": {
              "type": "string"
            },
            "text/plain": [
              "'I ate 10 apples. so I was sick for three days'"
            ]
          },
          "metadata": {
            "tags": []
          },
          "execution_count": 23
        }
      ]
    },
    {
      "cell_type": "markdown",
      "metadata": {
        "id": "qXtbq9C5lbYa"
      },
      "source": [
        "#문자열 포맷 코드\n",
        "문자열 포매팅 예제에서는 대입해 넣는 자료형으로 정수와 문자열을 사용했으나 이 외에도 다양한 것을 대입할 수 있다. 문자열 포맷 코드로는 다음과 같은 것이 있다.\n",
        "\n",
        "코드\t설명\n",
        "\n",
        "* %s\t문자열(String)\n",
        "* %c\t문자 1개(character)\n",
        "* %d\t정수(Integer)\n",
        "* %f\t부동소수(floating-point)\n",
        "* %o\t8진수\n",
        "* %x\t16진수\n",
        "* %%\tLiteral % (문자 % 자체)"
      ]
    },
    {
      "cell_type": "code",
      "metadata": {
        "colab": {
          "base_uri": "https://localhost:8080/",
          "height": 35
        },
        "id": "Qy4Vn8UblY2X",
        "outputId": "f53a76a5-974e-4327-ca55-27a3dc4ba42a"
      },
      "source": [
        "#포매팅 연산자 %d와 %를 같이 쓸 때는 %%를 쓴다\n",
        "\"Error is %d%%\" % 98"
      ],
      "execution_count": null,
      "outputs": [
        {
          "output_type": "execute_result",
          "data": {
            "application/vnd.google.colaboratory.intrinsic+json": {
              "type": "string"
            },
            "text/plain": [
              "'Error is 98%'"
            ]
          },
          "metadata": {
            "tags": []
          },
          "execution_count": 24
        }
      ]
    },
    {
      "cell_type": "code",
      "metadata": {
        "colab": {
          "base_uri": "https://localhost:8080/",
          "height": 35
        },
        "id": "hnhFa2Onl0sk",
        "outputId": "17fd2cfe-3cc0-4507-963d-43eb26b46c2d"
      },
      "source": [
        "#정렬과 공백\n",
        "\"%10s\" %\"hi\""
      ],
      "execution_count": null,
      "outputs": [
        {
          "output_type": "execute_result",
          "data": {
            "application/vnd.google.colaboratory.intrinsic+json": {
              "type": "string"
            },
            "text/plain": [
              "'        hi'"
            ]
          },
          "metadata": {
            "tags": []
          },
          "execution_count": 25
        }
      ]
    },
    {
      "cell_type": "code",
      "metadata": {
        "colab": {
          "base_uri": "https://localhost:8080/",
          "height": 35
        },
        "id": "sU8CwQuhmFFQ",
        "outputId": "9464bdbb-b0da-4233-ca7a-33cbd828c9b2"
      },
      "source": [
        "#소수점 표현\n",
        "\"%0.4f\" % 3.141592"
      ],
      "execution_count": null,
      "outputs": [
        {
          "output_type": "execute_result",
          "data": {
            "application/vnd.google.colaboratory.intrinsic+json": {
              "type": "string"
            },
            "text/plain": [
              "'3.1416'"
            ]
          },
          "metadata": {
            "tags": []
          },
          "execution_count": 26
        }
      ]
    },
    {
      "cell_type": "code",
      "metadata": {
        "colab": {
          "base_uri": "https://localhost:8080/",
          "height": 35
        },
        "id": "rz9UP_pMmJo_",
        "outputId": "e140bb49-8ff1-4ff0-d5da-55e8fa1a9b7a"
      },
      "source": [
        "#format 함수를 사용한 포매팅\n",
        "#숫자 바로 대입하기\n",
        "\"I eat {0} apples\".format(3)"
      ],
      "execution_count": null,
      "outputs": [
        {
          "output_type": "execute_result",
          "data": {
            "application/vnd.google.colaboratory.intrinsic+json": {
              "type": "string"
            },
            "text/plain": [
              "'I eat 3 apples'"
            ]
          },
          "metadata": {
            "tags": []
          },
          "execution_count": 27
        }
      ]
    },
    {
      "cell_type": "code",
      "metadata": {
        "colab": {
          "base_uri": "https://localhost:8080/",
          "height": 35
        },
        "id": "1fFENWkxmUkF",
        "outputId": "9b6eed92-7e5c-488e-8ef2-9cd8e8747bec"
      },
      "source": [
        "#문자열 바로 대입하기\n",
        "\"I eat {0} apples\".format(\"five\")"
      ],
      "execution_count": null,
      "outputs": [
        {
          "output_type": "execute_result",
          "data": {
            "application/vnd.google.colaboratory.intrinsic+json": {
              "type": "string"
            },
            "text/plain": [
              "'I eat five apples'"
            ]
          },
          "metadata": {
            "tags": []
          },
          "execution_count": 28
        }
      ]
    },
    {
      "cell_type": "code",
      "metadata": {
        "colab": {
          "base_uri": "https://localhost:8080/",
          "height": 35
        },
        "id": "3cbZEJckmYun",
        "outputId": "0f53d917-9d13-46bb-a796-6c790ca9c187"
      },
      "source": [
        "#숫자 값을 가진 변수로 대입하기\n",
        "number=3\n",
        "\"I eat {0} apples\".format(number)"
      ],
      "execution_count": null,
      "outputs": [
        {
          "output_type": "execute_result",
          "data": {
            "application/vnd.google.colaboratory.intrinsic+json": {
              "type": "string"
            },
            "text/plain": [
              "'I eat 3 apples'"
            ]
          },
          "metadata": {
            "tags": []
          },
          "execution_count": 29
        }
      ]
    },
    {
      "cell_type": "code",
      "metadata": {
        "colab": {
          "base_uri": "https://localhost:8080/",
          "height": 35
        },
        "id": "D5YGDgjfmiT6",
        "outputId": "38a229ff-f3bf-4596-a718-fb234f41a06d"
      },
      "source": [
        "#2개 이상의 값 넣기\n",
        "number=10\n",
        "day=\"five\"\n",
        "\"I ate {0} apples. so I was sick for {1} days\".format(number,day)"
      ],
      "execution_count": null,
      "outputs": [
        {
          "output_type": "execute_result",
          "data": {
            "application/vnd.google.colaboratory.intrinsic+json": {
              "type": "string"
            },
            "text/plain": [
              "'I ate 10 apples. so I was sick for five days'"
            ]
          },
          "metadata": {
            "tags": []
          },
          "execution_count": 30
        }
      ]
    },
    {
      "cell_type": "code",
      "metadata": {
        "colab": {
          "base_uri": "https://localhost:8080/",
          "height": 35
        },
        "id": "rMIBq6_wmtNs",
        "outputId": "2e8bb782-ecd7-4177-fa63-3c975f2ab57b"
      },
      "source": [
        "#이름으로 넣기\n",
        "\"I ate {number} apples. so I was sick for{day} days\".format(number=10,day=3)"
      ],
      "execution_count": null,
      "outputs": [
        {
          "output_type": "execute_result",
          "data": {
            "application/vnd.google.colaboratory.intrinsic+json": {
              "type": "string"
            },
            "text/plain": [
              "'I ate 10 apples. so I was sick for3 days'"
            ]
          },
          "metadata": {
            "tags": []
          },
          "execution_count": 31
        }
      ]
    },
    {
      "cell_type": "code",
      "metadata": {
        "colab": {
          "base_uri": "https://localhost:8080/",
          "height": 35
        },
        "id": "3Zp7QFt8m3AB",
        "outputId": "7a6ecaa7-e35b-474a-d683-463abebad5f9"
      },
      "source": [
        "#인덱스와 이름을 혼용해서 넣기\n",
        "\"I ate {0} apples. so I was sick for {day} days.\".format(10, day=3)"
      ],
      "execution_count": null,
      "outputs": [
        {
          "output_type": "execute_result",
          "data": {
            "application/vnd.google.colaboratory.intrinsic+json": {
              "type": "string"
            },
            "text/plain": [
              "'I ate 10 apples. so I was sick for 3 days.'"
            ]
          },
          "metadata": {
            "tags": []
          },
          "execution_count": 32
        }
      ]
    },
    {
      "cell_type": "code",
      "metadata": {
        "colab": {
          "base_uri": "https://localhost:8080/",
          "height": 35
        },
        "id": "BUS8cKrSnB9j",
        "outputId": "5665d4d1-4ac3-4ebd-b498-26ff090cd1a9"
      },
      "source": [
        "#왼쪽정렬\n",
        "\"{0:<10}\".format(\"hi\")"
      ],
      "execution_count": null,
      "outputs": [
        {
          "output_type": "execute_result",
          "data": {
            "application/vnd.google.colaboratory.intrinsic+json": {
              "type": "string"
            },
            "text/plain": [
              "'hi        '"
            ]
          },
          "metadata": {
            "tags": []
          },
          "execution_count": 35
        }
      ]
    },
    {
      "cell_type": "code",
      "metadata": {
        "colab": {
          "base_uri": "https://localhost:8080/",
          "height": 35
        },
        "id": "BKE-IGLenU9B",
        "outputId": "c3cb0e8b-492c-4cd9-a120-43e112bd01c5"
      },
      "source": [
        "#오른쪽정렬\n",
        "\"{0:>10}\".format(\"hi\")"
      ],
      "execution_count": null,
      "outputs": [
        {
          "output_type": "execute_result",
          "data": {
            "application/vnd.google.colaboratory.intrinsic+json": {
              "type": "string"
            },
            "text/plain": [
              "'        hi'"
            ]
          },
          "metadata": {
            "tags": []
          },
          "execution_count": 36
        }
      ]
    },
    {
      "cell_type": "code",
      "metadata": {
        "colab": {
          "base_uri": "https://localhost:8080/",
          "height": 35
        },
        "id": "NtL_SqgNnMao",
        "outputId": "aa4e12d9-a0fa-41cc-a785-072b567ddc18"
      },
      "source": [
        "#가운데정렬\n",
        "\"{0:^10}\".format(\"hi\")"
      ],
      "execution_count": null,
      "outputs": [
        {
          "output_type": "execute_result",
          "data": {
            "application/vnd.google.colaboratory.intrinsic+json": {
              "type": "string"
            },
            "text/plain": [
              "'    hi    '"
            ]
          },
          "metadata": {
            "tags": []
          },
          "execution_count": 37
        }
      ]
    },
    {
      "cell_type": "code",
      "metadata": {
        "colab": {
          "base_uri": "https://localhost:8080/",
          "height": 35
        },
        "id": "-4cRJDIxnctu",
        "outputId": "eb860e67-60ea-4b71-f9fe-1853c3cb5eda"
      },
      "source": [
        "#공백채우기\n",
        "\"{0:=^10}\".format(\"hi\")"
      ],
      "execution_count": null,
      "outputs": [
        {
          "output_type": "execute_result",
          "data": {
            "application/vnd.google.colaboratory.intrinsic+json": {
              "type": "string"
            },
            "text/plain": [
              "'====hi===='"
            ]
          },
          "metadata": {
            "tags": []
          },
          "execution_count": 38
        }
      ]
    },
    {
      "cell_type": "code",
      "metadata": {
        "colab": {
          "base_uri": "https://localhost:8080/",
          "height": 35
        },
        "id": "CVKl4_5rniYA",
        "outputId": "1bd6aa3e-b85b-435b-e612-ca98080af4d1"
      },
      "source": [
        "# f 문자열 포매팅(3.6버전이상)\n",
        "age=30\n",
        "f'나는 내년이면 {age+1}살이 된다.'"
      ],
      "execution_count": null,
      "outputs": [
        {
          "output_type": "execute_result",
          "data": {
            "application/vnd.google.colaboratory.intrinsic+json": {
              "type": "string"
            },
            "text/plain": [
              "'나는 내년이면 31살이 된다.'"
            ]
          },
          "metadata": {
            "tags": []
          },
          "execution_count": 39
        }
      ]
    },
    {
      "cell_type": "code",
      "metadata": {
        "colab": {
          "base_uri": "https://localhost:8080/",
          "height": 35
        },
        "id": "RwsGaycln1_K",
        "outputId": "329b1d3c-84cd-4145-b0ce-950aed70d9b8"
      },
      "source": [
        "#딕셔너리 f 문자열 포매팅\n",
        "d = {'name':'홍길동', 'age':30}\n",
        "f'나의 이름은 {d[\"name\"]}입니다. 나이는 {d[\"age\"]}입니다.'"
      ],
      "execution_count": null,
      "outputs": [
        {
          "output_type": "execute_result",
          "data": {
            "application/vnd.google.colaboratory.intrinsic+json": {
              "type": "string"
            },
            "text/plain": [
              "'나의 이름은 홍길동입니다. 나이는 30입니다.'"
            ]
          },
          "metadata": {
            "tags": []
          },
          "execution_count": 40
        }
      ]
    },
    {
      "cell_type": "markdown",
      "metadata": {
        "id": "VZO8BuMYoG0F"
      },
      "source": [
        "#문자열 관련 함수들"
      ]
    },
    {
      "cell_type": "code",
      "metadata": {
        "colab": {
          "base_uri": "https://localhost:8080/"
        },
        "id": "CEEPk0WWn89s",
        "outputId": "a6117cf0-98b1-4cbc-97b3-133264daf36b"
      },
      "source": [
        "#문자열 관련 함수들\n",
        "#문자개수세기(count)\n",
        "a=\"hobby\"\n",
        "a.count('b')"
      ],
      "execution_count": null,
      "outputs": [
        {
          "output_type": "execute_result",
          "data": {
            "text/plain": [
              "2"
            ]
          },
          "metadata": {
            "tags": []
          },
          "execution_count": 41
        }
      ]
    },
    {
      "cell_type": "code",
      "metadata": {
        "colab": {
          "base_uri": "https://localhost:8080/"
        },
        "id": "HJ-7lMpDoD5A",
        "outputId": "c7514a72-cd75-4243-e508-8b45a250bdc0"
      },
      "source": [
        "#위치알려주기(index)\n",
        "a=\"life is too short\"\n",
        "a.index('t')"
      ],
      "execution_count": null,
      "outputs": [
        {
          "output_type": "execute_result",
          "data": {
            "text/plain": [
              "8"
            ]
          },
          "metadata": {
            "tags": []
          },
          "execution_count": 42
        }
      ]
    },
    {
      "cell_type": "code",
      "metadata": {
        "colab": {
          "base_uri": "https://localhost:8080/",
          "height": 35
        },
        "id": "k3ZFqVynoM9V",
        "outputId": "39124f52-fc59-467f-bc57-87b92a80a578"
      },
      "source": [
        "#문자열 삽입\n",
        "\",\".join(\"abcd\")"
      ],
      "execution_count": null,
      "outputs": [
        {
          "output_type": "execute_result",
          "data": {
            "application/vnd.google.colaboratory.intrinsic+json": {
              "type": "string"
            },
            "text/plain": [
              "'a,b,c,d'"
            ]
          },
          "metadata": {
            "tags": []
          },
          "execution_count": 43
        }
      ]
    },
    {
      "cell_type": "code",
      "metadata": {
        "colab": {
          "base_uri": "https://localhost:8080/",
          "height": 35
        },
        "id": "D5fWK_mGoSS7",
        "outputId": "013878b4-8887-436c-eb82-805c5459de63"
      },
      "source": [
        "#왼쪽 공백 지우기\n",
        "a=\" hi \"\n",
        "a.lstrip()"
      ],
      "execution_count": null,
      "outputs": [
        {
          "output_type": "execute_result",
          "data": {
            "application/vnd.google.colaboratory.intrinsic+json": {
              "type": "string"
            },
            "text/plain": [
              "'hi '"
            ]
          },
          "metadata": {
            "tags": []
          },
          "execution_count": 45
        }
      ]
    },
    {
      "cell_type": "code",
      "metadata": {
        "colab": {
          "base_uri": "https://localhost:8080/",
          "height": 35
        },
        "id": "us9NxSJBodIH",
        "outputId": "102512ba-1275-4e80-808f-628e15cf6021"
      },
      "source": [
        "#오른쪽 공백 지우기\n",
        "a.rstrip()"
      ],
      "execution_count": null,
      "outputs": [
        {
          "output_type": "execute_result",
          "data": {
            "application/vnd.google.colaboratory.intrinsic+json": {
              "type": "string"
            },
            "text/plain": [
              "' hi'"
            ]
          },
          "metadata": {
            "tags": []
          },
          "execution_count": 46
        }
      ]
    },
    {
      "cell_type": "code",
      "metadata": {
        "colab": {
          "base_uri": "https://localhost:8080/",
          "height": 35
        },
        "id": "jgP7QvTwoezd",
        "outputId": "5100e592-af28-4b1e-8914-b51b2f5034df"
      },
      "source": [
        "#양쪽 공백 지우기\n",
        "a.strip()"
      ],
      "execution_count": null,
      "outputs": [
        {
          "output_type": "execute_result",
          "data": {
            "application/vnd.google.colaboratory.intrinsic+json": {
              "type": "string"
            },
            "text/plain": [
              "'hi'"
            ]
          },
          "metadata": {
            "tags": []
          },
          "execution_count": 47
        }
      ]
    },
    {
      "cell_type": "code",
      "metadata": {
        "colab": {
          "base_uri": "https://localhost:8080/",
          "height": 35
        },
        "id": "RL33aqtPokoJ",
        "outputId": "231d7ddb-7678-4faa-fa44-b9bcd6b03d4a"
      },
      "source": [
        "#문자열 바꾸기(replace)\n",
        "a = \"life is too short\"\n",
        "a.replace(\"life\",\"Your leg\" )"
      ],
      "execution_count": null,
      "outputs": [
        {
          "output_type": "execute_result",
          "data": {
            "application/vnd.google.colaboratory.intrinsic+json": {
              "type": "string"
            },
            "text/plain": [
              "'Your leg is too short'"
            ]
          },
          "metadata": {
            "tags": []
          },
          "execution_count": 49
        }
      ]
    },
    {
      "cell_type": "code",
      "metadata": {
        "id": "8ENm5H6Pot9r",
        "colab": {
          "base_uri": "https://localhost:8080/"
        },
        "outputId": "56a06fc7-a675-45d2-f04c-606e350512ab"
      },
      "source": [
        "#문자열 나누기(split)\n",
        "a.split()"
      ],
      "execution_count": null,
      "outputs": [
        {
          "output_type": "execute_result",
          "data": {
            "text/plain": [
              "['life', 'is', 'too', 'short']"
            ]
          },
          "metadata": {
            "tags": []
          },
          "execution_count": 50
        }
      ]
    },
    {
      "cell_type": "code",
      "metadata": {
        "id": "X7r9AUDmoygZ"
      },
      "source": [
        ""
      ],
      "execution_count": null,
      "outputs": []
    }
  ]
}
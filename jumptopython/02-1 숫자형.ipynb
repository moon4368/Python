{
  "nbformat": 4,
  "nbformat_minor": 0,
  "metadata": {
    "colab": {
      "name": "Untitled0.ipynb",
      "provenance": [],
      "authorship_tag": "ABX9TyNJ7L1mybhMBIjj4BKWVfrm",
      "include_colab_link": true
    },
    "kernelspec": {
      "name": "python3",
      "display_name": "Python 3"
    },
    "language_info": {
      "name": "python"
    }
  },
  "cells": [
    {
      "cell_type": "markdown",
      "metadata": {
        "id": "view-in-github",
        "colab_type": "text"
      },
      "source": [
        "<a href=\"https://colab.research.google.com/github/moon4368/Python/blob/master/jumptopython/02-1%20%EC%88%AB%EC%9E%90%ED%98%95.ipynb\" target=\"_parent\"><img src=\"https://colab.research.google.com/assets/colab-badge.svg\" alt=\"Open In Colab\"/></a>"
      ]
    },
    {
      "cell_type": "markdown",
      "metadata": {
        "id": "CnIVIY8qHi73"
      },
      "source": [
        "# 파이썬 데이터 타입\n",
        "\n",
        "## 정수형\n",
        "양의 정수, 음의 정수, 0"
      ]
    },
    {
      "cell_type": "code",
      "metadata": {
        "id": "GYJcFMDRHqgE"
      },
      "source": [
        "a=123\n",
        "a=-123\n",
        "a=0"
      ],
      "execution_count": 1,
      "outputs": []
    },
    {
      "cell_type": "markdown",
      "metadata": {
        "id": "sJrWqtqyHt6j"
      },
      "source": [
        "## 실수형\n",
        "소수점이 포함된 숫자"
      ]
    },
    {
      "cell_type": "code",
      "metadata": {
        "id": "unWXsmvnHsqq"
      },
      "source": [
        "#일반적인 실수형 표현\n",
        "a=1.2\n",
        "b=-3.45\n",
        "#컴퓨터식 지수 표현 방식\n",
        "a=4.24E10\n",
        "a=4/24e-10"
      ],
      "execution_count": null,
      "outputs": []
    },
    {
      "cell_type": "markdown",
      "metadata": {
        "id": "n_Ih5NsnIRUj"
      },
      "source": [
        "## 8진수와 16진수\n",
        "8진수 : 앞에 0o or 0O(숫자 0+알파벳 소문자 o or 대문자O)"
      ]
    },
    {
      "cell_type": "code",
      "metadata": {
        "id": "sIuChu2gIiEp"
      },
      "source": [
        "a=0o177"
      ],
      "execution_count": null,
      "outputs": []
    },
    {
      "cell_type": "markdown",
      "metadata": {
        "id": "DuDUBNB8Ik4U"
      },
      "source": [
        "16진수 : 앞에 0x"
      ]
    },
    {
      "cell_type": "code",
      "metadata": {
        "id": "MmTedSeTItJ7"
      },
      "source": [
        "a=0x8ff\n",
        "b=0xABC"
      ],
      "execution_count": null,
      "outputs": []
    },
    {
      "cell_type": "markdown",
      "metadata": {
        "id": "khBOq5JJIx2D"
      },
      "source": [
        "# 숫자형을 활용하기 위한 연산자\n",
        "## 사칙연산\n",
        "(+, -, *, /) "
      ]
    },
    {
      "cell_type": "code",
      "metadata": {
        "colab": {
          "base_uri": "https://localhost:8080/"
        },
        "id": "jpfQcMO6I5wL",
        "outputId": "ef556713-4c46-44c4-a16d-997281cc1736"
      },
      "source": [
        "a = 3\n",
        "b = 4\n",
        "a + b"
      ],
      "execution_count": 2,
      "outputs": [
        {
          "output_type": "execute_result",
          "data": {
            "text/plain": [
              "7"
            ]
          },
          "metadata": {
            "tags": []
          },
          "execution_count": 2
        }
      ]
    },
    {
      "cell_type": "code",
      "metadata": {
        "colab": {
          "base_uri": "https://localhost:8080/"
        },
        "id": "kbbRJJIfJIjs",
        "outputId": "73aa8c6b-dfb0-41e0-dd5d-41dc242c81d1"
      },
      "source": [
        "a * b"
      ],
      "execution_count": 3,
      "outputs": [
        {
          "output_type": "execute_result",
          "data": {
            "text/plain": [
              "12"
            ]
          },
          "metadata": {
            "tags": []
          },
          "execution_count": 3
        }
      ]
    },
    {
      "cell_type": "code",
      "metadata": {
        "colab": {
          "base_uri": "https://localhost:8080/"
        },
        "id": "VdkuE78XJJ6D",
        "outputId": "ec7f1e48-1c85-47ce-c4d2-b4d5a94d5917"
      },
      "source": [
        "a / b"
      ],
      "execution_count": 4,
      "outputs": [
        {
          "output_type": "execute_result",
          "data": {
            "text/plain": [
              "0.75"
            ]
          },
          "metadata": {
            "tags": []
          },
          "execution_count": 4
        }
      ]
    },
    {
      "cell_type": "markdown",
      "metadata": {
        "id": "Q-0WGNW7JL28"
      },
      "source": [
        "## x의 제곱을 나타내는 ** 연산자\n",
        "x ** n == xⁿ"
      ]
    },
    {
      "cell_type": "code",
      "metadata": {
        "colab": {
          "base_uri": "https://localhost:8080/"
        },
        "id": "pPs37J3-JK7j",
        "outputId": "ae3396ba-5816-41b1-9da2-e2a3d0455118"
      },
      "source": [
        "a**b"
      ],
      "execution_count": 5,
      "outputs": [
        {
          "output_type": "execute_result",
          "data": {
            "text/plain": [
              "81"
            ]
          },
          "metadata": {
            "tags": []
          },
          "execution_count": 5
        }
      ]
    },
    {
      "cell_type": "markdown",
      "metadata": {
        "id": "LeLDi733JWzi"
      },
      "source": [
        "## 나눗셈 후 나머지를 반환하는 % 연산자\n",
        "%는 나눗셈의 나머지 값을 돌려주는 연산자."
      ]
    },
    {
      "cell_type": "code",
      "metadata": {
        "colab": {
          "base_uri": "https://localhost:8080/"
        },
        "id": "c0soicJDJVBj",
        "outputId": "ec7edaee-7cce-4ac8-ee9e-3b2f3ff17c61"
      },
      "source": [
        "7 % 3"
      ],
      "execution_count": 6,
      "outputs": [
        {
          "output_type": "execute_result",
          "data": {
            "text/plain": [
              "1"
            ]
          },
          "metadata": {
            "tags": []
          },
          "execution_count": 6
        }
      ]
    },
    {
      "cell_type": "code",
      "metadata": {
        "colab": {
          "base_uri": "https://localhost:8080/"
        },
        "id": "BGfmDBCZJhSb",
        "outputId": "03d62d28-06a3-4d03-f5e3-0715d2038a85"
      },
      "source": [
        "3 % 7"
      ],
      "execution_count": 7,
      "outputs": [
        {
          "output_type": "execute_result",
          "data": {
            "text/plain": [
              "3"
            ]
          },
          "metadata": {
            "tags": []
          },
          "execution_count": 7
        }
      ]
    },
    {
      "cell_type": "markdown",
      "metadata": {
        "id": "_i_dTSi5Jjij"
      },
      "source": [
        "## 나눗셈 후 몫을 반환하는 // 연산자\n"
      ]
    },
    {
      "cell_type": "code",
      "metadata": {
        "colab": {
          "base_uri": "https://localhost:8080/"
        },
        "id": "ZQANHj7zJiWb",
        "outputId": "1b7b1b7e-4999-4452-d9ec-9edfd8e85e4b"
      },
      "source": [
        "7/4"
      ],
      "execution_count": 8,
      "outputs": [
        {
          "output_type": "execute_result",
          "data": {
            "text/plain": [
              "1.75"
            ]
          },
          "metadata": {
            "tags": []
          },
          "execution_count": 8
        }
      ]
    },
    {
      "cell_type": "code",
      "metadata": {
        "colab": {
          "base_uri": "https://localhost:8080/"
        },
        "id": "7IZJBGzsJpib",
        "outputId": "4d78e39e-ce4e-4e0c-fcd6-15dfc0288051"
      },
      "source": [
        "7//4"
      ],
      "execution_count": 9,
      "outputs": [
        {
          "output_type": "execute_result",
          "data": {
            "text/plain": [
              "1"
            ]
          },
          "metadata": {
            "tags": []
          },
          "execution_count": 9
        }
      ]
    }
  ]
}